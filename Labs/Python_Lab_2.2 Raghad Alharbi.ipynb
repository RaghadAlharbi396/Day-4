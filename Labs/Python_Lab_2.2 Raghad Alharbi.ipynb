{
 "cells": [
  {
   "cell_type": "markdown",
   "metadata": {
    "id": "E9Y5ss1ZYj3r"
   },
   "source": [
    "# Python_Lab_2.2\n"
   ]
  },
  {
   "cell_type": "markdown",
   "metadata": {
    "id": "Q1kAqc72Yj3t"
   },
   "source": [
    "### Task 1\n",
    "1. Write a program that prompts the user to enter two numbers and prints their division. Handle cases where the user enters non-numeric values or attempts to divide by zero using a try-except block.\n"
   ]
  },
  {
   "cell_type": "code",
   "execution_count": 1,
   "metadata": {
    "id": "H-xyoRTVYj3t"
   },
   "outputs": [
    {
     "name": "stdout",
     "output_type": "stream",
     "text": [
      "Division programe\n",
      "Wrong input, You cannot divide by zero.\n",
      "try again\n",
      "Wrong input, You must enter an integer.\n",
      "try again\n",
      "The result of division 2 by 4 is 0.5\n"
     ]
    }
   ],
   "source": [
    "# write your code here ^_^\n",
    "print(\"Division programe\")\n",
    "while True:\n",
    "     try:\n",
    "        n1=int(input(\"Enter number 1:\"))\n",
    "        n2=int(input(\"Enter number 2:\"))\n",
    "        result = n1/n2\n",
    "        print(f\"The result of division {n1} by {n2} is {result}\")\n",
    "        break\n",
    "     except ValueError:\n",
    "         print(\"Wrong input, You must enter an integer.\")\n",
    "         print(\"try again\")\n",
    "     except ZeroDivisionError:\n",
    "         print(\"Wrong input, You cannot divide by zero.\")\n",
    "         print(\"try again\")\n",
    "     \n",
    "   "
   ]
  },
  {
   "cell_type": "markdown",
   "metadata": {
    "id": "CPWcDSC_Yj3u"
   },
   "source": [
    "### Task 2\n",
    "- Use \"Random\" library to do the following:\n",
    "    1. Create a list of random numbers using list comprehension.\n",
    "    2. Create a list of squares of the even numbers from random numbers using list comprehension.\n",
    "    3. Create a list of tuples (number, square) for random numbers using list comprehension."
   ]
  },
  {
   "cell_type": "code",
   "execution_count": 7,
   "metadata": {
    "id": "Yfq-i6CeYj3u"
   },
   "outputs": [
    {
     "name": "stdout",
     "output_type": "stream",
     "text": [
      "List of random numbers: [23, 28, 89, 24, 43]\n",
      "List of squares of even numbers: [784, 576]\n",
      "List of number and square in a tuples: [(23, 529), (28, 784), (89, 7921), (24, 576), (43, 1849)]\n"
     ]
    }
   ],
   "source": [
    "# write your code here ^_^\n",
    "import random\n",
    "#1\n",
    "lis=[random.randint(1,100) for i in range(1,6)]\n",
    "print(\"List of random numbers:\",lis)\n",
    "\n",
    "#2\n",
    "list1 = [i**2 for i in lis if i%2==0]\n",
    "print(\"List of squares of even numbers:\",list1)\n",
    "\n",
    "#3\n",
    "list2=[(i , i**2) for i in lis]\n",
    "print(\"List of number and square in a tuples:\",list2)"
   ]
  },
  {
   "cell_type": "markdown",
   "metadata": {
    "id": "jYdOq46NYj3u"
   },
   "source": [
    "### Task 3\n",
    "- Create a dictionary where the keys are numbers from 1 to 5 and the values are list of their squares and cubes.\n",
    "\n",
    "  - **hint**: use dictionary of list comprehension.\n",
    "\n",
    "- Create a dictionary from two lists (one with keys and one with values) using dictionary comprehension.\n",
    "\n"
   ]
  },
  {
   "cell_type": "code",
   "execution_count": 12,
   "metadata": {
    "id": "IEnsiNmCYj3u"
   },
   "outputs": [
    {
     "name": "stdout",
     "output_type": "stream",
     "text": [
      "{1: [1, 1], 2: [4, 8], 3: [9, 27], 4: [16, 64], 5: [25, 125]}\n",
      "{'raghad': 20, 'sara': 21, 'Ahmad': 22}\n"
     ]
    }
   ],
   "source": [
    "# write your code here ^_^\n",
    "#1\n",
    "dict1 = {i:[i**2,i**3] for i in range(1,6)}\n",
    "print(dict1)\n",
    "#2\n",
    "List3 = [\"raghad\" , \"sara\" ,\"Ahmad\"]\n",
    "List4 = [20,21,22]\n",
    "dict2 = {List3[i] :List4[i] for i in range(0,len(List3)) }\n",
    "print(dict2)"
   ]
  },
  {
   "cell_type": "markdown",
   "metadata": {
    "id": "6T9TCQ8SYj3v"
   },
   "source": [
    "### Task 4\n",
    "- Given a dictionary where keys are student names and values are lists of their scores, write a function that updates the scores of students who have achieved a perfect score (100) by adding a bonus of 5 points to each score. Use dictionary comprehension to achieve this.\n",
    "\n",
    "    - Implement the function add_bonus_to_perfect_scores(student_scores) that adds a bonus of 5 points to each score of students who have achieved a perfect score (100)."
   ]
  },
  {
   "cell_type": "code",
   "execution_count": 17,
   "metadata": {
    "id": "T3R_VsQpYj3v"
   },
   "outputs": [
    {
     "name": "stdout",
     "output_type": "stream",
     "text": [
      "Name of students and ther scores before the bonus {'raghad': [100, 100, 10], 'Tala': [100, 40, 10]}\n",
      "Name of students and ther scores after the bonus {'raghad': [105, 105, 10], 'Tala': [105, 40, 10]}\n"
     ]
    }
   ],
   "source": [
    "# write your code here ^_^\n",
    "def add_bonus_to_perfect_scores(student_scores) :\n",
    "    dict4={key:[score + 5 if score == 100 else score for score in value] \n",
    "           for key ,value in student_scores.items()}\n",
    "    return dict4\n",
    "\n",
    "dict3 = {\"raghad\":[50,100,10],\n",
    "         \"Tala\":[100,40,10],\n",
    "         \"raghad\":[50,70,10],\n",
    "         \"raghad\":[100,100,10], }\n",
    "print(\"Name of students and ther scores before the bonus\",dict3)\n",
    "print(\"Name of students and ther scores after the bonus\",add_bonus_to_perfect_scores(dict3))\n",
    "\n"
   ]
  },
  {
   "cell_type": "markdown",
   "metadata": {
    "id": "rJkOEFAwYj3v"
   },
   "source": []
  }
 ],
 "metadata": {
  "colab": {
   "provenance": []
  },
  "kernelspec": {
   "display_name": "Python 3",
   "language": "python",
   "name": "python3"
  },
  "language_info": {
   "codemirror_mode": {
    "name": "ipython",
    "version": 3
   },
   "file_extension": ".py",
   "mimetype": "text/x-python",
   "name": "python",
   "nbconvert_exporter": "python",
   "pygments_lexer": "ipython3",
   "version": "3.13.0"
  }
 },
 "nbformat": 4,
 "nbformat_minor": 0
}
