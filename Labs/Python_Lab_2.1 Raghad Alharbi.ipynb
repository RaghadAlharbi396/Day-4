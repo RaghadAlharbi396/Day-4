{
 "cells": [
  {
   "cell_type": "markdown",
   "metadata": {
    "id": "x7F-mxeubDUG"
   },
   "source": [
    "# Python_Lab_2.1\n"
   ]
  },
  {
   "cell_type": "markdown",
   "metadata": {
    "id": "14c6Hn1BbDUH"
   },
   "source": [
    "### Task 1\n",
    "1. Write a function named is_prime that takes a number as a parameter and returns True if the number is prime and False otherwise. Print whether the number 29 is prime."
   ]
  },
  {
   "cell_type": "code",
   "execution_count": 1,
   "metadata": {
    "id": "5e_MZEN0bDUI"
   },
   "outputs": [
    {
     "name": "stdout",
     "output_type": "stream",
     "text": [
      "Is number 29 prime? True\n"
     ]
    }
   ],
   "source": [
    "# write your code here ^_^\n",
    "def is_prime(number):\n",
    "    if number <= 1:\n",
    "        return False\n",
    "    for i in range(2, int(number**0.5) + 1):\n",
    "        if number % i == 0:\n",
    "            return False\n",
    "    return True\n",
    "    \n",
    "print(\"Is number 29 prime?\",is_prime(29))"
   ]
  },
  {
   "cell_type": "markdown",
   "metadata": {
    "id": "2zKG8ZcybDUI"
   },
   "source": [
    "### Task 2\n",
    "1. Create a list of 10 numbers and sort them in descending order using the sort() function.\n",
    "2. Use the len() function to print the length of the sorted list.\n",
    "3. Use the zip() function to combine three lists (names, ages, and cities) into a list of tuples.\n",
    "4. Use the range() function to create a list of even numbers from 2 to 20 and print the list."
   ]
  },
  {
   "cell_type": "code",
   "execution_count": 3,
   "metadata": {
    "id": "yyoe__M_bDUI"
   },
   "outputs": [
    {
     "name": "stdout",
     "output_type": "stream",
     "text": [
      "[3, 5, 2, 6, 7, 1, 8, 9, 22, 66]\n",
      "None\n",
      "10\n",
      "(('raghad', 21, 'Riyadh'), ('sara', 22, 'Macaa'), ('Ahmad', 25, 'Alula'))\n",
      "[2, 4, 6, 8, 10, 12, 14, 16, 18, 20]\n"
     ]
    }
   ],
   "source": [
    "# write your code here ^_^\n",
    "#1\n",
    "list1 = [3,5,2,6,7,1,8,9,22,66]\n",
    "print(list1)\n",
    "print(list1.sort(reverse=True))\n",
    "\n",
    "#2\n",
    "print(len(list1))\n",
    "\n",
    "#3\n",
    "names = [\"raghad\" , \"sara\",\"Ahmad\",\"Naif\"]\n",
    "age = [21,22,25,23]\n",
    "cities = [\"Riyadh\",\"Macaa\",\"Alula\"]\n",
    "print(tuple(zip(names,age,cities)))\n",
    "\n",
    "#4\n",
    "list2=list(range(2,21,2))\n",
    "print(list2)"
   ]
  },
  {
   "cell_type": "markdown",
   "metadata": {
    "id": "aStW5p7AbDUI"
   },
   "source": [
    "### Task 3\n",
    "Build a phone book program that receives the phone number, and returns the name of the owner.\n",
    "You can follow the table below:\n",
    "\n",
    "| Name     | Number     |\n",
    "| -------- | ---------- |\n",
    "| Amal     | 1111111111 |\n",
    "| Mohammed | 2222222222 |\n",
    "| Khadijah | 3333333333 |\n",
    "| Abdullah | 4444444444 |\n",
    "| Rawan    | 5555555555 |\n",
    "| Faisal   | 6666666666 |\n",
    "| Layla    | 7777777777 |\n",
    "\n",
    "- If the number exists, print the owner. Otherwise, print \"Sorry, the number is not found\".\n",
    "- If the number is less or more than 10 numbers, print \"This is invalid number\".\n",
    "- If the number contains letters or symbols, print \"This is invalid number\".\n"
   ]
  },
  {
   "cell_type": "code",
   "execution_count": 7,
   "metadata": {
    "id": "kvXmjUe-bDUJ"
   },
   "outputs": [
    {
     "name": "stdout",
     "output_type": "stream",
     "text": [
      "Welcome to number book\n",
      "The owner of the number 6666666666 is Faisal.\n"
     ]
    }
   ],
   "source": [
    "# write your code here ^_^\n",
    "def find(phone, phone_numbers):\n",
    "    for num , name in phone_numbers.items():\n",
    "        if num == phone:\n",
    "            return name\n",
    "    return None\n",
    "\n",
    "print(\"Welcome to number book\")\n",
    "phone_book ={\"1111111111\" : \"Amal\",\n",
    "             \"2222222222\" : \"Mohammed\",\n",
    "             \"3333333333\" : \"Khadijah\",\n",
    "             \"4444444444\" : \"Abdullah\",\n",
    "             \"5555555555\" : \"Rawan\",\n",
    "             \"6666666666\" : \"Faisal\",\n",
    "             \"7777777777\" : \"Layla\"}\n",
    "while True:\n",
    "  phone = input(\"Enter the phone number:\")\n",
    "\n",
    "  if len(phone)!=10 or not phone.isdigit():\n",
    "      print(\"This is invalid number.\")\n",
    "      print(\"Try Again\")\n",
    "      continue\n",
    "  owner = find(phone, phone_book)\n",
    "    \n",
    "  if owner:\n",
    "    print(f\"The owner of the number {phone} is {owner}.\")\n",
    "  else:\n",
    "     print(\"Sorry, the number is not found.\")\n",
    "  break\n",
    "\n"
   ]
  },
  {
   "cell_type": "markdown",
   "metadata": {
    "id": "exLHQ28nbDUJ"
   },
   "source": [
    "### Task 4\n",
    "- Given the following list : [5, 4, 17, 19, 30, 2, 7, 10, 45]\n",
    "    1. Use a lambda function to filter out only the odd numbers.\n",
    "    2. Print the new list of odd numbers."
   ]
  },
  {
   "cell_type": "code",
   "execution_count": null,
   "metadata": {
    "id": "64SUsh1cbDUJ"
   },
   "outputs": [
    {
     "name": "stdout",
     "output_type": "stream",
     "text": [
      "[5, 17, 19, 7, 45]\n"
     ]
    }
   ],
   "source": [
    "# write your code here ^_^\n",
    "#1\n",
    "list3=[5, 4, 17, 19, 30, 2, 7, 10, 45]\n",
    "list4=list(filter(lambda x: x%2 !=0 , list3))\n",
    "#2\n",
    "print(list4)"
   ]
  }
 ],
 "metadata": {
  "colab": {
   "provenance": []
  },
  "kernelspec": {
   "display_name": "Python 3",
   "language": "python",
   "name": "python3"
  },
  "language_info": {
   "codemirror_mode": {
    "name": "ipython",
    "version": 3
   },
   "file_extension": ".py",
   "mimetype": "text/x-python",
   "name": "python",
   "nbconvert_exporter": "python",
   "pygments_lexer": "ipython3",
   "version": "3.13.0"
  }
 },
 "nbformat": 4,
 "nbformat_minor": 0
}
